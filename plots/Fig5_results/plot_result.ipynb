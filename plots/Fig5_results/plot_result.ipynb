{
 "cells": [
  {
   "cell_type": "code",
   "execution_count": 68,
   "metadata": {
    "collapsed": true
   },
   "outputs": [],
   "source": [
    "import numpy as np\n",
    "import matplotlib.pyplot as plt\n",
    "import seaborn as sns"
   ]
  },
  {
   "cell_type": "code",
   "execution_count": 69,
   "metadata": {
    "collapsed": true
   },
   "outputs": [],
   "source": [
    "sample_n=[100,1000,10000,100000]\n",
    "sample_based_kl=np.load('sample_based.npy')\n",
    "sample_based_kl = np.delete(sample_based_kl,-2)\n",
    "form_based_kl=np.load('form_based.npy')\n",
    "real_kl=np.load('real_kl.npy')"
   ]
  },
  {
   "cell_type": "code",
   "execution_count": 115,
   "metadata": {},
   "outputs": [
    {
     "data": {
      "image/png": "[encoded data removed]",
      "text/plain": [
       "<matplotlib.figure.Figure at 0x11d186a90>"
      ]
     },
     "metadata": {},
     "output_type": "display_data"
    }
   ],
   "source": [
    "fig=plt.figure(figsize=(4,3.0))\n",
    "\n",
    "stride = max( int(len(sample_n) / 4), 1)\n",
    "\n",
    "# plt.plot(sample_n,sample_based_kl)\n",
    "# plt.plot(sample_n,[form_based_kl]*5)\n",
    "# plt.plot(sample_n,[7.48]*5)\n",
    "# plt.show()\n",
    "\n",
    "plt.semilogx(sample_n, sample_based_kl, '-', label='GAN', marker= 'v', color='orange', markevery=stride,lw=2,  mec='k', mew=1 , markersize=9)\n",
    "plt.semilogx(sample_n, [form_based_kl]*4,'-', label='RAS', marker= 'o', color='r', markevery=stride,lw=2,  mec='k', mew=1 , markersize=9)\n",
    "plt.semilogx(sample_n, [real_kl]*4 ,  '--', label='True samples', marker= 's', color='k', markevery=stride,lw=2,  mec='k', mew=1 , markersize=8)\n",
    "plt.semilogx([0.0], [0.0])\n",
    "\n",
    "\n",
    "leg = plt.legend(fontsize=14, shadow=True, loc=(0.4, .6))\n",
    "\n",
    "\n",
    "# plt.grid('on')\n",
    "plt.xlabel('# Samples in GAN', fontsize=12)\n",
    "plt.ylabel('Symmetric KL', fontsize=12)\n",
    "\n",
    "\n",
    "ax = plt.gca() \n",
    "# ax.margins(x=0.5, y=0)\n",
    "ax.margins(x=0.01, y=0.25)\n",
    "# ax.yaxis.set_label_coords(0.00, -0.5) \n",
    "ax.xaxis.set_label_coords(0.5, -0.15) \n",
    "\n",
    "# X-axis label\n",
    "plt.xticks( (1e1, 1e2, 1e3, 1e4, 1e5), ('', '$10^2$','$10^3$', '$10^4$','$10^5$'), color='k', size=10)\n",
    "\n",
    "# ax.set_xscale('log')\n",
    "# plt.xscale('log',basey=10) \n",
    "\n",
    "# Left Y-axis labels\n",
    "# plt.yticks((0.50, 0.6, 0.70, 0.80), ('50', '60','70','80'), color='k', size=14)\n",
    "\n",
    "plt.xlim(80,1.3e5)\n",
    "plt.ylim(2.3,9)\n",
    "\n",
    "plt.show()\n",
    "\n",
    "fig.savefig('gan_ras_gmm.pdf', bbox_inches='tight')\n"
   ]
  },
  {
   "cell_type": "code",
   "execution_count": null,
   "metadata": {},
   "outputs": [],
   "source": []
  },
  {
   "cell_type": "code",
   "execution_count": null,
   "metadata": {},
   "outputs": [],
   "source": []
  },
  {
   "cell_type": "code",
   "execution_count": null,
   "metadata": {
    "collapsed": true
   },
   "outputs": [],
   "source": []
  }
 ],
 "metadata": {
  "kernelspec": {
   "display_name": "Python 2",
   "language": "python",
   "name": "python2"
  },
  "language_info": {
   "codemirror_mode": {
    "name": "ipython",
    "version": 2
   },
   "file_extension": ".py",
   "mimetype": "text/x-python",
   "name": "python",
   "nbconvert_exporter": "python",
   "pygments_lexer": "ipython2",
   "version": "2.7.13"
  }
 },
 "nbformat": 4,
 "nbformat_minor": 2
}

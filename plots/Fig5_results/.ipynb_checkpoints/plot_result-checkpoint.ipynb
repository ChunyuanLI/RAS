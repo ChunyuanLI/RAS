{
 "cells": [
  {
   "cell_type": "code",
   "execution_count": 1,
   "metadata": {
    "collapsed": true
   },
   "outputs": [],
   "source": [
    "import numpy as np\n",
    "import matplotlib.pyplot as plt\n",
    "import seaborn as sns"
   ]
  },
  {
   "cell_type": "code",
   "execution_count": 2,
   "metadata": {
    "collapsed": true
   },
   "outputs": [],
   "source": [
    "sample_n=[100,1000,10000,50000,100000]\n",
    "sample_based_kl=np.load('sample_based.npy')\n",
    "form_based_kl=np.load('form_based.npy')"
   ]
  },
  {
   "cell_type": "code",
   "execution_count": 37,
   "metadata": {},
   "outputs": [
    {
     "data": {
      "image/png": "[encoded data removed]",
      "text/plain": [
       "<matplotlib.figure.Figure at 0x11bd0fe10>"
      ]
     },
     "metadata": {},
     "output_type": "display_data"
    }
   ],
   "source": [
    "fig=plt.figure(figsize=(5,3.0))\n",
    "\n",
    "stride = max( int(len(sample_n) / 4), 1)\n",
    "\n",
    "# plt.plot(sample_n,sample_based_kl)\n",
    "# plt.plot(sample_n,[form_based_kl]*5)\n",
    "# plt.plot(sample_n,[7.48]*5)\n",
    "# plt.show()\n",
    "\n",
    "plt.plot(sample_n, sample_based_kl,  '-', label='GANs', marker= 's', color='k', markevery=stride,lw=2,  mec='k', mew=1 , markersize=10)\n",
    "plt.plot(sample_n, [form_based_kl]*5,'-', label='Unnormalized form', marker= 'o', color='r', markevery=stride,lw=2,  mec='k', mew=1 , markersize=10)\n",
    "plt.plot(sample_n, [7.48]*5,         '-', label='True samples', marker= 'v', color='orange', markevery=stride,lw=2,  mec='k', mew=1 , markersize=10)\n",
    "\n",
    "\n",
    "\n",
    "leg = plt.legend(fontsize=22, shadow=True, loc=(0.5, -0.0))\n",
    "plt.legend()\n",
    "\n",
    "# plt.grid('on')\n",
    "plt.xlabel('# Samples', fontsize=13)\n",
    "plt.ylabel('Symmetric KL', fontsize=13)\n",
    "\n",
    "\n",
    "ax = plt.gca() \n",
    "# ax.yaxis.set_label_coords(0.00, -0.5) \n",
    "# ax.xaxis.set_label_coords(0, 1e5) \n",
    "# X-axis label\n",
    "# plt.xticks( (0.0, 1e4, 1e5), ('0', '10K','100K'), color='k', size=14)\n",
    "\n",
    "# ax.set_xscale('log')\n",
    "plt.xscale('log',basey=10) \n",
    "\n",
    "# Left Y-axis labels\n",
    "# plt.yticks((0.50, 0.6, 0.70, 0.80), ('50', '60','70','80'), color='k', size=14)\n",
    "\n",
    "plt.xlim(-1000,1e5)\n",
    "plt.ylim(7,10)\n",
    "\n",
    "plt.show()\n",
    "\n",
    "\n",
    "# fig.savefig('yahoo_iteration.pdf', bbox_inches='tight')\n"
   ]
  },
  {
   "cell_type": "code",
   "execution_count": null,
   "metadata": {
    "collapsed": true
   },
   "outputs": [],
   "source": []
  }
 ],
 "metadata": {
  "kernelspec": {
   "display_name": "Python 2",
   "language": "python",
   "name": "python2"
  },
  "language_info": {
   "codemirror_mode": {
    "name": "ipython",
    "version": 2
   },
   "file_extension": ".py",
   "mimetype": "text/x-python",
   "name": "python",
   "nbconvert_exporter": "python",
   "pygments_lexer": "ipython2",
   "version": "2.7.13"
  }
 },
 "nbformat": 4,
 "nbformat_minor": 2
}

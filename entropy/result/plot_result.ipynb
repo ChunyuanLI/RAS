{
 "cells": [
  {
   "cell_type": "code",
   "execution_count": 1,
   "metadata": {},
   "outputs": [],
   "source": [
    "%matplotlib inline\n",
    "import matplotlib.pyplot as plt\n",
    "import numpy as np\n",
    "import time\n",
    "import pdb\n",
    "import matplotlib\n",
    "# import some stuff\n",
    "from __future__ import division, print_function\n",
    "\n",
    "from scipy.stats import gaussian_kde\n",
    "import scipy.stats as st\n",
    "import os\n",
    "import pandas as pd\n",
    "import seaborn as sns"
   ]
  },
  {
   "cell_type": "code",
   "execution_count": null,
   "metadata": {},
   "outputs": [],
   "source": []
  },
  {
   "cell_type": "code",
   "execution_count": 2,
   "metadata": {},
   "outputs": [],
   "source": [
    "def f1(pos):\n",
    "    return pos[0]**2+pos[1]**2\n",
    "def pot1(z):\n",
    "    a=0.5*((np.linalg.norm(z,axis=0)-2.0)/0.4)**2\n",
    "    b=np.log(np.exp(-0.5*((z[0]-2.0)/0.6)**2)+np.exp(-0.5*((z[0]+2.0)/0.6)**2))\n",
    "    ans=a-b\n",
    "    return np.exp(-ans)\n",
    "def pot1_hard(z):\n",
    "    a=0.5*((np.linalg.norm(z,axis=0)-3.0)/0.4)**2\n",
    "    b=np.log(np.exp(-0.5*((z[0]-3.0)/0.6)**2)+np.exp(-0.5*((z[0]+3.0)/0.6)**2))\n",
    "    ans=a-b\n",
    "    return np.exp(-ans)\n",
    "def w1(z):\n",
    "    return np.sin(2*3.14159*z[0]/4)\n",
    "def w2(z):\n",
    "    return 3*np.exp(-0.5*((z[0]-1)/0.6)**2)\n",
    "def pot2(z):\n",
    "    ans=0.5*((z[1]-w1(z))/0.4)**2\n",
    "    return np.exp(-ans)\n",
    "def pot3(z):\n",
    "    ans=-np.log(np.exp(-0.5*((z[1]-w1(z))/0.35)**2)+np.exp(-0.5*((z[1]-w1(z)+w2(z))/0.35)**2))\n",
    "    return np.exp(-ans)\n",
    "\n",
    "def function_to_sample(func,bbox):\n",
    "    xx, yy = np.mgrid[bbox[0]:bbox[1]:100j, bbox[0]:bbox[1]:100j]\n",
    "    positions = np.vstack([xx.ravel(), yy.ravel()])\n",
    "    f = func(positions)\n",
    "    p=positions.T\n",
    "    q=np.array([[0,0]])\n",
    "    scale=30\n",
    "    for i in range(len(f)):\n",
    "#         if i%2000==0:\n",
    "#             print(i)\n",
    "        temp=[p[i]]\n",
    "        n=min(int(f[i]*scale),30)\n",
    "        temp2=np.tile(temp,(n,1))\n",
    "        q=np.concatenate((q,temp2),axis=0)\n",
    "    return q\n",
    "def plot_sample(q,bbox):\n",
    "    xx, yy = np.mgrid[bbox[0]:bbox[1]:100j, bbox[0]:bbox[1]:100j]\n",
    "    positions = np.vstack([xx.ravel(), yy.ravel()])\n",
    "    p=positions.T\n",
    "    q=np.concatenate((q,p),axis=0)\n",
    "    fig = plt.figure(figsize=(20,5))   \n",
    "    # transformed distribution with samples\n",
    "    ax = plt.subplot(1, 1, 1, aspect='equal')\n",
    "    ax.hist2d(q[:, 0], q[:, 1], range=[bbox, bbox], bins=100)\n",
    "    ax.get_xaxis().set_ticks([])\n",
    "    ax.get_yaxis().set_ticks([])\n",
    "    plt.show()"
   ]
  },
  {
   "cell_type": "code",
   "execution_count": 3,
   "metadata": {},
   "outputs": [],
   "source": [
    "def plot_result(data,title,range_limit,point=True,step=1,alpha=0.5):\n",
    "    bbox=[range_limit[0],range_limit[1],range_limit[0],range_limit[1]]\n",
    "    df = pd.DataFrame(data)  \n",
    "    fig=plt.figure(figsize=[5,5])\n",
    "    g = sns.jointplot(x=0, y=1, data=df, kind=\"kde\", cmap='Blues',ratio=1000, n_levels=50, kernel=\"biw\" , bw=\"silverman\" , stat_func=None,joint_kws={'shade_lowest':False}, xlim=range_limit, ylim=range_limit )\n",
    "    if point:\n",
    "        g.plot_joint(plt.scatter, c=\"grey\", s=30, linewidth=1, marker=\"o\",alpha=alpha)\n",
    "#     g.ax_joint.collections[0].set_alpha(0)\n",
    "    plt.yticks([])\n",
    "    plt.xticks([])\n",
    "    g.set_axis_labels(\"\", \"\") \n",
    "    g.savefig(title+'.pdf')\n",
    "    plt.show()"
   ]
  },
  {
   "cell_type": "code",
   "execution_count": 4,
   "metadata": {},
   "outputs": [],
   "source": [
    "range_limit = [-0.7,0.7]\n",
    "name='gmm'\n",
    "data = np.load('./gmm_EN.npy', )"
   ]
  },
  {
   "cell_type": "code",
   "execution_count": null,
   "metadata": {
    "scrolled": false
   },
   "outputs": [],
   "source": [
    "\n",
    "plot_result(data[:10000],name,range_limit)\n"
   ]
  },
  {
   "cell_type": "code",
   "execution_count": null,
   "metadata": {},
   "outputs": [],
   "source": [
    "num_mixtures =8\n",
    "radius = 0.5\n",
    "thetas = np.linspace(0, 2 * np.pi, num_mixtures + 1)[:num_mixtures]\n",
    "xs, ys = radius * np.sin(thetas), radius * np.cos(thetas)\n",
    "means_x = list([np.array([a,b]) for a,b in zip(xs,ys)])\n",
    "std = 0.05\n",
    "u_mean=tuple(zip(xs, ys))\n",
    "u_cov=tuple([(std, std)] * num_mixtures)\n",
    "def gmm(x):\n",
    "    if x.shape[0]==2:\n",
    "        x=x.T\n",
    "    for i in range(8):\n",
    "        d=st.multivariate_normal(u_mean[i],[[std**2,0.0],[0.0,std**2]])\n",
    "        if i==0:\n",
    "            ans=d.pdf(x)/8.0\n",
    "        else:\n",
    "            ans+=d.pdf(x)/8.0\n",
    "    \n",
    "    return ans"
   ]
  },
  {
   "cell_type": "code",
   "execution_count": null,
   "metadata": {},
   "outputs": [],
   "source": [
    "\n",
    "data=function_to_sample(gmm,range_limit)\n"
   ]
  },
  {
   "cell_type": "code",
   "execution_count": null,
   "metadata": {},
   "outputs": [],
   "source": [
    "plot_result(data,name+'ground_truth',range_limit,point=False)"
   ]
  },
  {
   "cell_type": "code",
   "execution_count": null,
   "metadata": {
    "collapsed": true
   },
   "outputs": [],
   "source": []
  }
 ],
 "metadata": {
  "kernelspec": {
   "display_name": "Python 2",
   "language": "python",
   "name": "python2"
  },
  "language_info": {
   "codemirror_mode": {
    "name": "ipython",
    "version": 2
   },
   "file_extension": ".py",
   "mimetype": "text/x-python",
   "name": "python",
   "nbconvert_exporter": "python",
   "pygments_lexer": "ipython2",
   "version": "2.7.14"
  }
 },
 "nbformat": 4,
 "nbformat_minor": 2
}

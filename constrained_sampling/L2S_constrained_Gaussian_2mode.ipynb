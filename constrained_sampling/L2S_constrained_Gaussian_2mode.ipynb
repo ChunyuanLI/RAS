{
 "cells": [
  {
   "cell_type": "code",
   "execution_count": 12,
   "metadata": {},
   "outputs": [
    {
     "name": "stdout",
     "output_type": "stream",
     "text": [
      "The autoreload extension is already loaded. To reload it, use:\n",
      "  %reload_ext autoreload\n"
     ]
    }
   ],
   "source": [
    "%load_ext autoreload\n",
    "%autoreload 2\n",
    "import os\n",
    "import pystan\n",
    "import numpy as np\n",
    "import scipy as sp\n",
    "from matplotlib import pyplot as plt\n",
    "from __future__ import division\n",
    "# import ite\n",
    "from tqdm import tqdm_notebook\n",
    "import re\n",
    "import glob\n",
    "import tensorflow as tf\n",
    "from tensorflow.contrib import slim\n",
    "ds = tf.contrib.distributions\n",
    "# st = tf.contrib.bayesflow.stochastic_tensor"
   ]
  },
  {
   "cell_type": "code",
   "execution_count": 13,
   "metadata": {},
   "outputs": [],
   "source": [
    "# Parameters\n",
    "batch_size = 512\n",
    "data = {'J': 8,\n",
    "        'y': [2.8,  0.8, -0.3,  0.7, -0.1,  0.1, 1.8, 1.2],\n",
    "       'sigma': [0.8, 0.5, 0.8, 0.6,  0.5, .6, 0.5, 0.4],\n",
    "       'psigma_eta': 1., 'psigma_mu': 1., 'psigma_tau': 1.}\n",
    "\n"
   ]
  },
  {
   "cell_type": "code",
   "execution_count": 14,
   "metadata": {},
   "outputs": [],
   "source": [
    "def kde(mu, tau, bbox=[-5, 5, -5, 5], xlabel=\"\", ylabel=\"\"):\n",
    "    values = np.vstack([mu, tau])\n",
    "    kernel = sp.stats.gaussian_kde(values)\n",
    "\n",
    "    fig, ax = plt.subplots()\n",
    "    ax.axis(bbox)\n",
    "    ax.set_aspect(1.0*4/5*abs(bbox[1]-bbox[0])/abs(bbox[3]-bbox[2]))\n",
    "    ax.set_xlabel(xlabel)\n",
    "    ax.set_ylabel(ylabel)\n",
    "\n",
    "    xx, yy = np.mgrid[bbox[0]:bbox[1]:100j, bbox[2]:bbox[3]:100j]\n",
    "    positions = np.vstack([xx.ravel(), yy.ravel()])\n",
    "    f = np.reshape(kernel(positions).T, xx.shape)\n",
    "    cfset = ax.contourf(xx, yy, f, cmap='Blues')\n",
    "\n",
    "    plt.show()\n",
    "\n",
    "def scatter(mu, tau, bbox=[-5, 5, -5, 5], xlabel=\"\", ylabel=\"\"):\n",
    "    fig, ax = plt.subplots()\n",
    "    ax.axis(bbox)\n",
    "    ax.set_aspect(1.0*4/5*abs(bbox[1]-bbox[0])/abs(bbox[3]-bbox[2]))\n",
    "    ax.set_xlabel(xlabel)\n",
    "    ax.set_ylabel(ylabel)\n",
    "                        \n",
    "    ax.scatter(mu, tau, edgecolor='none', alpha=0.5)\n",
    "\n",
    "    plt.show()    \n",
    "\n",
    "    \n",
    "def hist(x, xlabel=\"\", ylabel=\"\"):\n",
    "    fig, ax = plt.subplots()\n",
    "    ax.hist(x, bins=50)\n",
    "    ax.set_xlabel(xlabel)\n",
    "    ax.set_ylabel(ylabel)\n",
    "    plt.show()\n",
    "    \n",
    "    \n",
    "def heat_map(f, bbox=[-5, 5, -5, 5], xlabel=\"\", ylabel=\"\"):\n",
    "    if not os.path.exists(output_dir):\n",
    "        os.makedirs(output_dir)\n",
    "    N, M = f.shape\n",
    "    fig, ax = plt.subplots()\n",
    "    ax.axis(bbox)\n",
    "    ax.set_xlabel(xlabel)\n",
    "    ax.set_ylabel(ylabel)\n",
    "                        \n",
    "    xx, yy = np.mgrid[bbox[0]:bbox[1]:(N*1j), bbox[2]:bbox[3]:(M*1j)]\n",
    "    cfset = ax.contourf(xx, yy, f, cmap='Reds')\n",
    "    cset = ax.contour(xx, yy, f, colors='k')\n",
    "    plt.show()\n",
    "\n",
    "def heat_map_func(func, data, bbox=[-5, 5, -5, 5], **kwargs):\n",
    "    xx, yy = np.mgrid[bbox[0]:bbox[1]:100j, bbox[2]:bbox[3]:100j]\n",
    "    positions = np.vstack([xx.ravel(), yy.ravel()])\n",
    "    f = np.reshape(func(positions, data=data).T, xx.shape)\n",
    "    heat_map(f, bbox, **kwargs)"
   ]
  },
  {
   "cell_type": "code",
   "execution_count": 15,
   "metadata": {},
   "outputs": [],
   "source": [
    "#pot1\n",
    "param_dim = 1\n",
    "def w1(z):\n",
    "    return tf.sin(2.*np.pi*z[0]/4.)\n",
    "def w2(z):\n",
    "    return 3.*tf.exp(-.5*(((z[0]-1.)/.6))**2)\n",
    "def w3(z):\n",
    "    return 3.*(1+tf.exp(-(z[0]-1.)/.3))**-1\n",
    "def pot1(z,data):\n",
    "    z = tf.transpose(z)\n",
    "    ans=.5*((tf.norm(z, ord=2, axis=0)-3.)/.4)**2 - tf.log(tf.exp(-.5*((z[0]-3.)/.6)**2) + tf.exp(-.5*((z[0]+3.)/.6)**2))\n",
    "    return -ans\n",
    "def pot2(z,data):\n",
    "    z = tf.transpose(z)\n",
    "    ans=.5*((z[1]-w1(z))/.4)**2\n",
    "    return -ans\n",
    "\n",
    "def pot2_(z):\n",
    "    z = tf.transpose(z)\n",
    "    ans=.5*((z[1]-w1(z))/.4)**2\n",
    "    return -ans\n",
    "\n",
    "def pot3(z,data):\n",
    "    z = tf.transpose(z)\n",
    "    ans=-tf.log(tf.exp(-.5*((z[1]-w1(z))/.35)**2) + tf.exp(-.5*((z[1]-w1(z)+w2(z))/.35)**2))\n",
    "    return -ans\n",
    "def pot4(z,data):\n",
    "    z = tf.transpose(z)\n",
    "    ans=-tf.log(tf.exp(-.5*((z[1]-w1(z))/.4)**2) + tf.exp(-.5*((z[1]-w1(z)+w3(z))/.35)**2))\n",
    "    return -ans\n",
    "\n",
    "def pot6(z):\n",
    "    z = tf.transpose(z)\n",
    "    ans=.5*((tf.maximum(z[1],0.0)-w1(z))/.4)**2   \n",
    "    return -ans\n",
    "\n",
    "\n",
    "num_mixtures =2\n",
    "radius = 0.5\n",
    "thetas = np.linspace(0, 2 * np.pi, num_mixtures + 1)[:num_mixtures]\n",
    "xs, ys = radius * np.sin(thetas), radius * np.cos(thetas)\n",
    "means_x = list([np.array([a,b]) for a,b in zip(xs,ys)])\n",
    "std = 0.02\n",
    "u_mean=tuple(zip(xs, ys))\n",
    "u_cov=tuple([(std, std)] * num_mixtures)\n",
    "def pot5(x,data):\n",
    "        ds = tf.contrib.distributions\n",
    "        mix = 0.5\n",
    "        gauss_ref = ds.Mixture(\n",
    "          cat=ds.Categorical(probs=[mix, 1.-mix]),\n",
    "          components=[\n",
    "            ds.MultivariateNormalDiag(loc=u_mean[0], scale_diag=u_cov[0]),\n",
    "            ds.MultivariateNormalDiag(loc=u_mean[1], scale_diag=u_cov[1]),\n",
    "        ])\n",
    "                    \n",
    "        return gauss_ref.log_prob(x)\n"
   ]
  },
  {
   "cell_type": "code",
   "execution_count": 16,
   "metadata": {},
   "outputs": [
    {
     "data": {
      "image/png": "[encoded data removed]",
      "text/plain": [
       "<matplotlib.figure.Figure at 0x7f34188d6ad0>"
      ]
     },
     "metadata": {},
     "output_type": "display_data"
    }
   ],
   "source": [
    "# plot the Target distribution\n",
    "\n",
    "range_limit = [-1,1]\n",
    "npoints_plot=50\n",
    "\n",
    "def evaluate_bivariate(range, npoints):\n",
    "    \"\"\"Evaluate (possibly unnormalized) pdf over a meshgrid.\"\"\"\n",
    "    side = np.linspace(range[0], range[1], npoints)\n",
    "    z1, z2 = np.meshgrid(side, side)\n",
    "    zv = np.hstack([z1.reshape(-1, 1), z2.reshape(-1, 1)])\n",
    "    return z1, z2, zv\n",
    "\n",
    "\n",
    "z_pp  = tf.placeholder(tf.float32, [None,])\n",
    "prob = tf.maximum( (1- (z_pp/2.0 + 0.5))**(0.5) * (z_pp/2.0 + 0.5)**(5) + (1- (z_pp/2.0 + 0.5))**(5) * (z_pp/2.0 + 0.5)**(0.5), 0.0 )\n",
    "\n",
    "\n",
    "fig, _ = plt.subplots(figsize=(5, 3))\n",
    "# ax=plt.subplot(1,1,1, aspect='equal')\n",
    "coords = np.linspace(range_limit[0], range_limit[1], npoints_plot)\n",
    "\n",
    "with tf.Session() as s:\n",
    "    phat_z = s.run(prob, feed_dict={z_pp: coords} ) \n",
    "plt.plot(coords, phat_z, 'r--')\n",
    "z_min, z_max = -np.abs(phat_z).max(), np.abs(phat_z).max()\n",
    "plt.ylim(0.0,z_max)\n",
    "# plt.pcolor(mesh_z1, mesh_z2, phat_z, cmap='RdBu', vmin=z_min, vmax=z_max)\n",
    "# plt.xlim(range_limit); plt.ylim(range_limit); ax.set_title('Target distribution: $u(z)$')\n",
    "plt.show()"
   ]
  },
  {
   "cell_type": "code",
   "execution_count": 17,
   "metadata": {},
   "outputs": [],
   "source": [
    "def lrelu(x, leak=0.2, name=\"lrelu\"):\n",
    "    return tf.maximum(x, leak*x)\n",
    "\n",
    "def standard_normal(shape, **kwargs):\n",
    "    \"\"\"Create a standard Normal StochasticTensor.\"\"\"\n",
    "    return st.StochasticTensor(\n",
    "        ds.MultivariateNormalDiag(loc=tf.zeros(shape), scale_diag=tf.ones(shape), **kwargs))\n",
    "\n",
    "def posterior(reuse=False):\n",
    "    with tf.variable_scope(\"posterior\", reuse=reuse) as scope:\n",
    "        # eps = standard_normal([batch_size, param_dim]).value()\n",
    "        \n",
    "        Normal = tf.distributions.Normal(loc=tf.zeros(param_dim), scale=tf.ones(param_dim))\n",
    "        eps = Normal.sample([batch_size])\n",
    "        \n",
    "        with slim.arg_scope([slim.fully_connected], activation_fn=tf.nn.elu):\n",
    "            net = slim.fully_connected(eps, 128, scope='fc_0')\n",
    "            net = slim.fully_connected(net, 128, scope='fc_1')\n",
    "#             net = slim.fully_connected(net, 128, scope='fc_2')\n",
    "                \n",
    "        z = slim.fully_connected(net, param_dim, activation_fn=tf.nn.tanh, scope='z')\n",
    "        return z\n",
    "\n",
    "def auxiliary(reuse=False):\n",
    "    with tf.variable_scope(\"auxiliary\", reuse=reuse) as scope:\n",
    "        # eps = standard_normal([batch_size, param_dim]).value()\n",
    "        \n",
    "        Normal = tf.distributions.Normal(loc=tf.zeros(param_dim), scale=tf.ones(param_dim))\n",
    "        eps = Normal.sample([batch_size])\n",
    "        \n",
    "        with slim.arg_scope([slim.fully_connected], activation_fn=tf.nn.elu):\n",
    "            net = slim.fully_connected(eps, 128, scope='fc_0')\n",
    "            net = slim.fully_connected(net, 128, scope='fc_1')\n",
    "#             net = slim.fully_connected(net, 128, scope='fc_2')\n",
    "                \n",
    "        z = slim.fully_connected(net, param_dim, activation_fn=tf.nn.tanh, scope='z')\n",
    "        return z\n",
    "\n",
    "    \n",
    "def adversary(z, reuse=False):\n",
    "    with tf.variable_scope(\"adversary\", reuse=reuse) as scope:\n",
    "        with slim.arg_scope([slim.fully_connected], activation_fn=lrelu):\n",
    "            net = slim.fully_connected(z, 256, scope='fc_0')\n",
    "\n",
    "            for i in range(5):\n",
    "                dnet = slim.fully_connected(net, 256, scope='fc_%d_r0' % (i+1))\n",
    "                net += slim.fully_connected(dnet, 256, activation_fn=None, scope='fc_%d_r1' % (i+1),\n",
    "                                            weights_initializer=tf.constant_initializer(0.))\n",
    "                net = lrelu(net) \n",
    "\n",
    "        T = slim.fully_connected(net, 1, activation_fn=None, scope='T',\n",
    "                                weights_initializer=tf.constant_initializer(0.))\n",
    "        T = tf.squeeze(T, [1])\n",
    "        return T"
   ]
  },
  {
   "cell_type": "code",
   "execution_count": 18,
   "metadata": {},
   "outputs": [
    {
     "name": "stdout",
     "output_type": "stream",
     "text": [
      "using AC\n"
     ]
    }
   ],
   "source": [
    "# Parameter for AVB: wether to use adaptive contrast\n",
    "is_adapt_contrast = True\n",
    "tf.reset_default_graph() \n",
    "z0 = tf.random_normal([batch_size, param_dim], name=\"z0\")\n",
    "z_ = posterior()\n",
    "beta = tf.constant(1.)\n",
    "\n",
    "if is_adapt_contrast:\n",
    "    Ez_, Varz_ = tf.nn.moments(z_, [0], keep_dims=True)\n",
    "    stdz_ = tf.sqrt(Varz_) + 1e-6\n",
    "    Ez_ = tf.stop_gradient(Ez_)\n",
    "    stdz_ = tf.stop_gradient(stdz_)\n",
    "\n",
    "    zr = Ez_ + stdz_ * z0\n",
    "    znorm_ = (z_ - Ez_) / stdz_\n",
    "\n",
    "gauss_ref = ds.MultivariateNormalDiag(loc=[0, 0.], scale_diag=[1.0, 1.0])\n",
    "\n",
    "\n",
    "if is_adapt_contrast:\n",
    "    print('using AC')\n",
    "    logr_      = gauss_ref.log_prob(znorm_)\n",
    "    Ti = adversary(z0)\n",
    "    Td = adversary(znorm_, reuse=True)\n",
    "else:\n",
    "    logr_=gauss_ref.log_prob(z_)\n",
    "    Ti = adversary(z0)\n",
    "    Td = adversary(z_, reuse=True) \n",
    "    \n",
    "    \n",
    "# prob = tf.maximum(tf.exp(-z_[:,0])*z_[:,0] + tf.exp(-z_[:,1])*z_[:,1], 0.0)\n",
    "prob = tf.maximum( (1- (z_/2.0 + 0.5))**(0.5) * (z_/2.0 + 0.5)**(5) + (1- (z_/2.0 + 0.5))**(5) * (z_/2.0 + 0.5)**(0.5), 0.0 )\n",
    "# prob = tf.maximum( (1- (z_/2.0 + 0.5) )*(z_/2.0 + 0.5) **(3.0), 0.0 )\n",
    "logprob = tf.log(prob) # get_logprob(z_, data)\n",
    "\n",
    "\n",
    "mean_logprob = tf.reduce_mean(logprob)\n",
    "mean_Td = tf.reduce_mean(Td)\n",
    "loss_primal = tf.reduce_mean(beta*(logr_ + Td) - logprob)\n",
    "\n",
    "d_loss_d = tf.reduce_mean(\n",
    "   tf.nn.sigmoid_cross_entropy_with_logits(logits=Td, labels=tf.ones_like(Td))\n",
    ")\n",
    "d_loss_i = tf.reduce_mean(\n",
    "    tf.nn.sigmoid_cross_entropy_with_logits(logits=Ti, labels=tf.zeros_like(Ti))\n",
    ")\n",
    "loss_dual = d_loss_i + d_loss_d"
   ]
  },
  {
   "cell_type": "code",
   "execution_count": 19,
   "metadata": {},
   "outputs": [],
   "source": [
    "pvars = tf.get_collection(tf.GraphKeys.TRAINABLE_VARIABLES, \"posterior\")\n",
    "dvars = tf.get_collection(tf.GraphKeys.TRAINABLE_VARIABLES, \"adversary\")\n",
    "popt = tf.train.AdamOptimizer(1e-4, beta1=0.5)\n",
    "dopt = tf.train.AdamOptimizer(2e-4, beta1=0.5)\n",
    "\n",
    "grads_primal =  popt.compute_gradients(loss_primal, var_list=pvars)\n",
    "grads_dual = dopt.compute_gradients(loss_dual, var_list=dvars)\n",
    "\n",
    "train_primal = popt.apply_gradients(grads_primal)\n",
    "train_dual = dopt.apply_gradients(grads_dual)\n",
    "\n",
    "train_step = [train_primal, train_dual]"
   ]
  },
  {
   "cell_type": "code",
   "execution_count": 20,
   "metadata": {},
   "outputs": [],
   "source": [
    "from tqdm import tqdm_notebook, tnrange\n",
    "\n",
    "def run_training(sess, data, niter=10000, betas=None, npretrain=0):       \n",
    "    if betas is None:\n",
    "        betas = []\n",
    "        \n",
    "    for i in tnrange(npretrain, desc=\"Pretrain\"):\n",
    "        sess.run(train_dual)\n",
    "\n",
    "    pbar = tnrange(niter+1, desc=\"Train\")\n",
    "    for i in pbar:\n",
    "        if i >= np.size(betas):\n",
    "            beta_i = 1.\n",
    "        else:\n",
    "            beta_i = betas[i]\n",
    "                           \n",
    "        _, lp, ld, td = sess.run(\n",
    "                [train_primal, loss_primal, loss_dual, mean_Td],\n",
    "                feed_dict={beta: beta_i}\n",
    "        )\n",
    "        \n",
    "        sess.run(train_dual)\n",
    "        sess.run(train_dual)\n",
    "            \n",
    "        pbar.set_description(\"lp=%.3f, ld=%.3f, td=%.3f\"  % (lp, ld, td))\n",
    "\n",
    "def get_samples(sess, nbatches=100):\n",
    "    zs = np.zeros([nbatches, batch_size, param_dim])\n",
    "    for i in range(nbatches):\n",
    "        zs[i] = sess.run(z_)\n",
    "    zs = zs.reshape(-1, param_dim)\n",
    "    return zs\n",
    "\n",
    "# def stan_vb(stan_vb_alg=\"fullrank\", niter=10000):\n",
    "#     stan_vb_out = \"./vb.out\"\n",
    "#     sm.vb(data=data, sample_file=stan_vb_out, algorithm=stan_vb_alg, iter=niter, output_samples=10000, seed=1)\n",
    "#     stan_vb_samples = np.genfromtxt(stan_vb_out, dtype=float, delimiter=',')\n",
    "#     stan_vb_samples = stan_vb_samples[1:, 1:param_dim+1]\n",
    "\n",
    "#     return stan_vb_samples"
   ]
  },
  {
   "cell_type": "code",
   "execution_count": 21,
   "metadata": {},
   "outputs": [],
   "source": [
    "# Close existing session if available\n",
    "try:\n",
    "    sess.close()\n",
    "except NameError:\n",
    "    pass\n",
    "sess = tf.InteractiveSession()\n",
    "sess.run(tf.global_variables_initializer())"
   ]
  },
  {
   "cell_type": "code",
   "execution_count": 22,
   "metadata": {},
   "outputs": [
    {
     "data": {
      "application/vnd.jupyter.widget-view+json": {
       "model_id": "d61a9c4804bf4827920f9a12044604e0",
       "version_major": 2,
       "version_minor": 0
      },
      "text/html": [
       "<p>Failed to display Jupyter Widget of type <code>HBox</code>.</p>\n",
       "<p>\n",
       "  If you're reading this message in the Jupyter Notebook or JupyterLab Notebook, it may mean\n",
       "  that the widgets JavaScript is still loading. If this message persists, it\n",
       "  likely means that the widgets JavaScript library is either not installed or\n",
       "  not enabled. See the <a href=\"https://ipywidgets.readthedocs.io/en/stable/user_install.html\">Jupyter\n",
       "  Widgets Documentation</a> for setup instructions.\n",
       "</p>\n",
       "<p>\n",
       "  If you're reading this message in another frontend (for example, a static\n",
       "  rendering on GitHub or <a href=\"https://nbviewer.jupyter.org/\">NBViewer</a>),\n",
       "  it may mean that your frontend doesn't currently support widgets.\n",
       "</p>\n"
      ],
      "text/plain": [
       "HBox(children=(IntProgress(value=1, bar_style=u'info', description=u'Pretrain: ', max=1), HTML(value=u'')))"
      ]
     },
     "metadata": {},
     "output_type": "display_data"
    },
    {
     "data": {
      "application/vnd.jupyter.widget-view+json": {
       "model_id": "ef29be7d064e47cf8cf42ea5c56412b0",
       "version_major": 2,
       "version_minor": 0
      },
      "text/html": [
       "<p>Failed to display Jupyter Widget of type <code>HBox</code>.</p>\n",
       "<p>\n",
       "  If you're reading this message in the Jupyter Notebook or JupyterLab Notebook, it may mean\n",
       "  that the widgets JavaScript is still loading. If this message persists, it\n",
       "  likely means that the widgets JavaScript library is either not installed or\n",
       "  not enabled. See the <a href=\"https://ipywidgets.readthedocs.io/en/stable/user_install.html\">Jupyter\n",
       "  Widgets Documentation</a> for setup instructions.\n",
       "</p>\n",
       "<p>\n",
       "  If you're reading this message in another frontend (for example, a static\n",
       "  rendering on GitHub or <a href=\"https://nbviewer.jupyter.org/\">NBViewer</a>),\n",
       "  it may mean that your frontend doesn't currently support widgets.\n",
       "</p>\n"
      ],
      "text/plain": [
       "HBox(children=(IntProgress(value=0, description=u'Train: ', max=20001), HTML(value=u'')))"
      ]
     },
     "metadata": {},
     "output_type": "display_data"
    },
    {
     "name": "stdout",
     "output_type": "stream",
     "text": [
      "\r",
      "          \r",
      "538/|/lp=0.238, ld=1.316, td=0.168:   3%|| 538/20001 [00:30<18:06, 17.92it/s]"
     ]
    }
   ],
   "source": [
    "# Some parameters for the model fitting\n",
    "iter_max = 20000\n",
    "# AVB\n",
    "run_training(sess, data, niter=iter_max, npretrain=0)"
   ]
  },
  {
   "cell_type": "code",
   "execution_count": 23,
   "metadata": {},
   "outputs": [],
   "source": [
    "# Parameters for visualization\n",
    "idx0, idx1 = 0, 1\n",
    "labels = [r'$x$', r'$u(x)$', r'$\\eta_1$']\n",
    "xlabel = labels[idx0]\n",
    "ylabel = labels[idx1]\n"
   ]
  },
  {
   "cell_type": "code",
   "execution_count": 24,
   "metadata": {},
   "outputs": [],
   "source": [
    "q = get_samples(sess, nbatches=500)\n",
    "np.save('AC_Gaussian_constrained_2mode',q)"
   ]
  },
  {
   "cell_type": "code",
   "execution_count": 26,
   "metadata": {},
   "outputs": [
    {
     "data": {
      "image/png": "[encoded data removed]",
      "text/plain": [
       "<matplotlib.figure.Figure at 0x7f34a005c290>"
      ]
     },
     "metadata": {},
     "output_type": "display_data"
    }
   ],
   "source": [
    "q = get_samples(sess, nbatches=200)\n",
    "q1 = q[:, idx0]\n",
    "\n",
    "fig, _ = plt.subplots(figsize=(5, 3))\n",
    "plt.rc('font', size=16)\n",
    "plt.hist(q1, 50, normed=1)\n",
    "\n",
    "from scipy.stats import beta\n",
    "\n",
    "plt.plot(coords, 0.25*(beta.pdf(coords/2.0 + 0.5, 6, 1.5) + beta.pdf(coords/2.0 + 0.5, 1.5, 6)), 'r--')\n",
    "plt.show()\n",
    "\n",
    "    "
   ]
  },
  {
   "cell_type": "code",
   "execution_count": null,
   "metadata": {},
   "outputs": [],
   "source": []
  },
  {
   "cell_type": "code",
   "execution_count": null,
   "metadata": {
    "collapsed": true
   },
   "outputs": [],
   "source": []
  }
 ],
 "metadata": {
  "kernelspec": {
   "display_name": "Python 2",
   "language": "python",
   "name": "python2"
  },
  "language_info": {
   "codemirror_mode": {
    "name": "ipython",
    "version": 2
   },
   "file_extension": ".py",
   "mimetype": "text/x-python",
   "name": "python",
   "nbconvert_exporter": "python",
   "pygments_lexer": "ipython2",
   "version": "2.7.14"
  }
 },
 "nbformat": 4,
 "nbformat_minor": 2
}

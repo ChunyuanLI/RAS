{
 "cells": [
  {
   "cell_type": "markdown",
   "metadata": {},
   "source": [
    "## Amortized SVGD for toy distributions\n",
    "\n",
    "Author: Chunyuan Li ( http://chunyuan.li/ ). \n",
    "Tensorflow implementation of SVGD algorithm.\n",
    "\n",
    "Please contact me if there is any issue.\n",
    "\n",
    "Reference: Stein Variational Gradient Descent (SVGD): A General Purpose Bayesian Inference Algorithm, NIPS2017"
   ]
  },
  {
   "cell_type": "code",
   "execution_count": 1,
   "metadata": {},
   "outputs": [
    {
     "name": "stderr",
     "output_type": "stream",
     "text": [
      "/home/kd/anaconda3/envs/py27/lib/python2.7/site-packages/h5py/__init__.py:36: FutureWarning: Conversion of the second argument of issubdtype from `float` to `np.floating` is deprecated. In future, it will be treated as `np.float64 == np.dtype(float).type`.\n",
      "  from ._conv import register_converters as _register_converters\n"
     ]
    }
   ],
   "source": [
    "%matplotlib inline\n",
    "import matplotlib.pyplot as plt\n",
    "import numpy as np\n",
    "import time\n",
    "import pdb\n",
    "import matplotlib\n",
    "# import some stuff\n",
    "from __future__ import division, print_function\n",
    "\n",
    "from scipy.stats import gaussian_kde\n",
    "\n",
    "import os\n",
    "import pandas as pd\n",
    "import seaborn as sns\n",
    "\n",
    "# set gpu device - only important for multi gpu systems\n",
    "os.environ['CUDA_VISIBLE_DEVICES'] = '1'\n",
    "import tensorflow as tf\n",
    "\n",
    "rng = np.random.RandomState()\n",
    "np.random.seed(44)"
   ]
  },
  {
   "cell_type": "markdown",
   "metadata": {
    "collapsed": true
   },
   "source": [
    "Test toy distributions:"
   ]
  },
  {
   "cell_type": "code",
   "execution_count": null,
   "metadata": {},
   "outputs": [],
   "source": []
  },
  {
   "cell_type": "code",
   "execution_count": null,
   "metadata": {},
   "outputs": [],
   "source": []
  },
  {
   "cell_type": "markdown",
   "metadata": {
    "collapsed": true
   },
   "source": [
    "The SVGD update rule:"
   ]
  },
  {
   "cell_type": "code",
   "execution_count": 4,
   "metadata": {},
   "outputs": [],
   "source": [
    "def svgd_kernel(X0):\n",
    "    XY = tf.matmul(X0, tf.transpose(X0))\n",
    "    X2_ = tf.reduce_sum(tf.square(X0), axis=1)\n",
    "\n",
    "    x2 = tf.reshape( X2_, shape=( tf.shape(X0)[0], 1) )\n",
    "    \n",
    "    X2e = tf.tile(x2, [1, tf.shape(X0)[0] ] )\n",
    "    H = tf.subtract(tf.add(X2e, tf.transpose(X2e) ), 2 * XY)\n",
    "\n",
    "    V = tf.reshape(H, [-1,1]) \n",
    "\n",
    "    # median distance\n",
    "    def get_median(v):\n",
    "        v = tf.reshape(v, [-1])\n",
    "        m = v.get_shape()[0]//2\n",
    "        return tf.nn.top_k(v, m).values[m-1]\n",
    "    h = get_median(V)\n",
    "    h = tf.sqrt(0.5 * h / tf.log( tf.cast( tf.shape(X0)[0] , tf.float32) + 1.0))\n",
    "\n",
    "    # compute the rbf kernel\n",
    "    Kxy = tf.exp(-H / h ** 2 / 2.0)\n",
    "\n",
    "    dxkxy = -tf.matmul(Kxy, X0)\n",
    "    sumkxy = tf.expand_dims(tf.reduce_sum(Kxy, axis=1), 1) \n",
    "    dxkxy = tf.add(dxkxy, tf.multiply(X0, sumkxy)) / (h ** 2)\n",
    "\n",
    "    return (Kxy, dxkxy)"
   ]
  },
  {
   "cell_type": "code",
   "execution_count": 5,
   "metadata": {},
   "outputs": [],
   "source": [
    "'''\n",
    "    This is svgd version for 3d tensor X0\n",
    "    The first dimension is number of images,\n",
    "    second is number of z per images,\n",
    "    third dimension is the dimension of z\n",
    "'''\n",
    "\n",
    "def svgd_kernel_tensor(X0):\n",
    "\n",
    "    XY = tf.matmul(X0, tf.transpose(X0, perm=[0, 2, 1]) )\n",
    "    x2 = tf.reshape(tf.reduce_sum(tf.square(X0),axis=2), ( tf.shape(X0)[0], tf.shape(X0)[1], 1))\n",
    "    X2e = tf.tile(x2, [1,1,tf.shape(X0)[1]] )\n",
    "    H = tf.subtract(tf.add(X2e, tf.transpose(X2e, perm=[0,2,1] )), 2 * XY)\n",
    "\n",
    "    V = tf.reshape(H, [-1,1]) \n",
    "    # median distance\n",
    "    def get_median(v):\n",
    "        v = tf.reshape(v, [-1])\n",
    "        m = v.get_shape()[0]//2\n",
    "        return tf.nn.top_k(v, m).values[m-1]\n",
    "    h = get_median(V)\n",
    "    h = tf.sqrt(0.5 * h / tf.log( tf.cast( tf.shape(X0)[1] , tf.float32) + 1.0))\n",
    "\n",
    "    Kxy = tf.exp(-H / tf.tile(  tf.ones([1,1,1])*h , (1, tf.shape(X0)[1], tf.shape(X0)[1])) ** 2 / 2.0)\n",
    "\n",
    "    dxkxy = - tf.matmul(Kxy, X0)\n",
    "    sumkxy = tf.expand_dims(tf.reduce_sum(Kxy, axis=2), 2) \n",
    "    dxkxy = tf.add(dxkxy, tf.multiply(X0, sumkxy)) / (tf.tile(  tf.ones([1,1,1])*h , (1, tf.shape(X0)[1], tf.shape(X0)[2])) ** 2)\n",
    "\n",
    "    return (Kxy, dxkxy, h)"
   ]
  },
  {
   "cell_type": "code",
   "execution_count": null,
   "metadata": {},
   "outputs": [],
   "source": []
  },
  {
   "cell_type": "code",
   "execution_count": 44,
   "metadata": {},
   "outputs": [],
   "source": [
    "dtype = tf.float32\n",
    "num_particles=128*4 \n",
    "num_latent = 1\n",
    "lr = 0.001\n",
    "alpha=.9\n",
    "fudge_factor = 1e-6\n",
    "num_iter = 5000\n",
    "range_limit = [-1,1]\n",
    "npoints_plot=50"
   ]
  },
  {
   "cell_type": "code",
   "execution_count": 45,
   "metadata": {},
   "outputs": [
    {
     "data": {
      "text/plain": [
       "Text(0.5,1,u'Target distribution: $u(z)$')"
      ]
     },
     "execution_count": 45,
     "metadata": {},
     "output_type": "execute_result"
    },
    {
     "data": {
      "image/png": "[encoded data removed]",
      "text/plain": [
       "<matplotlib.figure.Figure at 0x7ff460650390>"
      ]
     },
     "metadata": {},
     "output_type": "display_data"
    }
   ],
   "source": [
    "z  = tf.placeholder(tf.float32, [num_particles, num_latent])\n",
    "prob = tf.maximum( (1- (z/2.0 + 0.5))**(0.5) * (z/2.0 + 0.5)**(5) + (1- (z/2.0 + 0.5))**(5) * (z/2.0 + 0.5)**(0.5), 1e-4 )\n",
    "f = tf.log(prob)\n",
    "\n",
    "log_p_grad = tf.squeeze(tf.gradients(f, z), axis=[0])\n",
    "out = svgd_kernel(z) # call MAIN update\n",
    "kernel_matrix, kernel_gradients = out[0], out[1]\n",
    "\n",
    "grad_theta = (tf.matmul(kernel_matrix, log_p_grad) + kernel_gradients)/num_particles\n",
    "z_np = -np.random.randn(num_particles, num_latent)*.1\n",
    "\n",
    "fig, _ = plt.subplots(figsize=(10, 5))\n",
    "ax=plt.subplot(1,3,1, aspect='equal')\n",
    "\n",
    "plt.hist(z_np[:,0],200, normed=1)  \n",
    "plt.xlim([-1.5,1.5]); plt.ylim([0.0, 1.2]); ax.set_title('Initial particles: $p_0(z)$')\n",
    "\n",
    "with tf.Session() as s:\n",
    "    for i in xrange(num_iter):\n",
    "        grad_theta_ = s.run( grad_theta, feed_dict={z: z_np } )\n",
    "        z_np = z_np + lr * grad_theta_\n",
    "\n",
    "ax=plt.subplot(1,3,2, aspect='equal')\n",
    "plt.hist(z_np[:,0],200, normed=1)  \n",
    "plt.xlim([-1.5,1.5]); plt.ylim([0.0, 1.2]); ax.set_title('Updated particles: $p_k(z)$')\n",
    "\n",
    "# plot the Target distribution\n",
    "z_pp  = tf.placeholder(tf.float32, [None, num_latent])\n",
    "\n",
    "ax=plt.subplot(1,3,3, aspect='equal')\n",
    "from scipy.stats import beta \n",
    "coords = np.linspace(range_limit[0], range_limit[1], npoints_plot)\n",
    "plt.plot(coords, 0.25*(beta.pdf(coords/2.0 + 0.5, 6, 1.5) + beta.pdf(coords/2.0 + 0.5, 1.5, 6)), 'r--')\n",
    "\n",
    "\n",
    "plt.xlim([-1.5,1.5]); plt.ylim([0.0, 1.2]); ax.set_title('Target distribution: $u(z)$')"
   ]
  },
  {
   "cell_type": "code",
   "execution_count": null,
   "metadata": {},
   "outputs": [],
   "source": []
  },
  {
   "cell_type": "code",
   "execution_count": 46,
   "metadata": {},
   "outputs": [],
   "source": [
    "np.save('samples_svgd_constrained_teacher_2mode.npy', z_np)"
   ]
  },
  {
   "cell_type": "code",
   "execution_count": null,
   "metadata": {},
   "outputs": [],
   "source": []
  },
  {
   "cell_type": "code",
   "execution_count": null,
   "metadata": {},
   "outputs": [],
   "source": []
  },
  {
   "cell_type": "code",
   "execution_count": null,
   "metadata": {},
   "outputs": [],
   "source": []
  },
  {
   "cell_type": "code",
   "execution_count": null,
   "metadata": {},
   "outputs": [],
   "source": []
  },
  {
   "cell_type": "markdown",
   "metadata": {
    "collapsed": true
   },
   "source": [
    "### Adversarial-based Amortized SVGD"
   ]
  },
  {
   "cell_type": "code",
   "execution_count": 37,
   "metadata": {},
   "outputs": [
    {
     "name": "stdout",
     "output_type": "stream",
     "text": [
      "WARNING:tensorflow:From /home/kd/anaconda3/envs/py27/lib/python2.7/site-packages/tensorflow/contrib/learn/python/learn/datasets/base.py:198: retry (from tensorflow.contrib.learn.python.learn.datasets.base) is deprecated and will be removed in a future version.\n",
      "Instructions for updating:\n",
      "Use the retry module or similar alternatives.\n"
     ]
    }
   ],
   "source": [
    "slim = tf.contrib.slim\n",
    "ds = tf.contrib.distributions"
   ]
  },
  {
   "cell_type": "code",
   "execution_count": 38,
   "metadata": {},
   "outputs": [],
   "source": [
    "\"\"\" parameters \"\"\"\n",
    "input_dim = 1\n",
    "latent_dim = 1\n",
    "eps_dim = 1\n",
    "batch_size = num_particles\n",
    "\n",
    "n_layer_disc = 2\n",
    "n_hidden_disc = 256\n",
    "n_layer_gen = 2\n",
    "n_hidden_gen= 256\n",
    "n_layer_inf = 2\n",
    "n_hidden_inf= 256"
   ]
  },
  {
   "cell_type": "code",
   "execution_count": 39,
   "metadata": {},
   "outputs": [],
   "source": [
    "def linear(input, output_dim, scope='linear', stddev=0.01):\n",
    "    norm = tf.random_normal_initializer(stddev=stddev)\n",
    "    const = tf.constant_initializer(0.0)\n",
    "    with tf.variable_scope(scope):\n",
    "        w = tf.get_variable('weights', [input.get_shape()[1], output_dim], initializer=norm)\n",
    "        b = tf.get_variable('biases', [output_dim], initializer=const)\n",
    "        return tf.matmul(input, w) + b\n",
    "\n",
    "\n",
    "def generative_network(z, input_dim, n_layer, n_hidden, eps_dim):\n",
    "    with tf.variable_scope(\"generative\"):\n",
    "        Normal = tf.distributions.Normal(loc=tf.zeros(eps_dim), scale=tf.ones(eps_dim))\n",
    "        eps = Normal.sample([batch_size])        \n",
    "        h = tf.concat([z, eps], 1) \n",
    "        h = tf.nn.relu(linear(h, n_hidden_gen, 'g_hidden1'))\n",
    "        h = tf.nn.relu(linear(h, n_hidden_gen, 'g_hidden2'))\n",
    "        x = slim.fully_connected(h, input_dim, activation_fn=tf.nn.tanh, scope=\"p_x\")\n",
    "    return x\n",
    "\n",
    "\n",
    "def inference_network(x, latent_dim, n_layer, n_hidden, eps_dim):\n",
    "    with tf.variable_scope(\"inference\"):\n",
    "        Normal = tf.distributions.Normal(loc=tf.zeros(eps_dim), scale=tf.ones(eps_dim))\n",
    "        eps = Normal.sample([batch_size]) * 0.0\n",
    "        h = tf.concat([x, eps], 1) \n",
    "        h = tf.nn.relu(linear(h, n_hidden_inf, 'i_hidden1'))\n",
    "        h = tf.nn.relu(linear(h, n_hidden_inf, 'i_hidden2'))        \n",
    "        z = slim.fully_connected(h, latent_dim, activation_fn=None, scope=\"q_z\")\n",
    "    return z\n",
    "\n",
    "\n",
    "def disc_network(x, n_layers=2, n_hidden=256, activation_fn=None, reuse=None):\n",
    "    \"\"\"Approximate x log data density.\"\"\"\n",
    "    h = x\n",
    "    with tf.variable_scope('discriminator', reuse=reuse):\n",
    "        h = tf.nn.relu(linear(h, n_hidden_disc, 'd_hidden1'))\n",
    "        h = tf.nn.relu(linear(h, n_hidden_disc, 'd_hidden2'))           \n",
    "        log_d = slim.fully_connected(h, 1, activation_fn=activation_fn)\n",
    "    return tf.squeeze(log_d, squeeze_dims=[1])\n",
    "\n",
    "\n",
    "def disc_pair_network(x,z, n_layers=2, n_hidden=256, activation_fn=None, reuse=None):\n",
    "    \"\"\"Approximate (x,z) log data density.\"\"\"\n",
    "    h = tf.concat([x,z], 1)\n",
    "    with tf.variable_scope('discriminator_pair', reuse=reuse):\n",
    "        h = tf.nn.relu(linear(h, n_hidden_disc, 'd_hidden1'))\n",
    "        h = tf.nn.relu(linear(h, n_hidden_disc, 'd_hidden2'))  \n",
    "        log_d = slim.fully_connected(h, 1, activation_fn=activation_fn)\n",
    "    return tf.squeeze(log_d, squeeze_dims=[1])\n"
   ]
  },
  {
   "cell_type": "markdown",
   "metadata": {},
   "source": [
    "Marginal distribution"
   ]
  },
  {
   "cell_type": "code",
   "execution_count": 78,
   "metadata": {},
   "outputs": [],
   "source": [
    "\"\"\" Construct model and training ops \"\"\"\n",
    "tf.reset_default_graph()\n",
    "\n",
    "x = tf.placeholder(tf.float32, shape=(batch_size, input_dim))\n",
    "z = tf.placeholder(tf.float32, shape=(batch_size, latent_dim))\n",
    "\n",
    "# decoder and encoder\n",
    "p_x = generative_network(z, input_dim , n_layer_gen, n_hidden_gen, eps_dim)\n",
    "\n",
    "gen_logit = disc_network(p_x, n_layers=n_layer_disc, n_hidden=n_hidden_disc)\n",
    "gen_loss = tf.nn.sigmoid_cross_entropy_with_logits(labels = tf.ones_like(gen_logit), logits=gen_logit)\n",
    "\n",
    "obs_logit = disc_network(x, n_layers=n_layer_disc, n_hidden=n_hidden_disc, reuse=True)\n",
    "obs_loss = tf.nn.sigmoid_cross_entropy_with_logits(labels = tf.zeros_like(gen_logit), logits=obs_logit)\n",
    "\n",
    "disc_loss = tf.reduce_mean(  gen_loss ) + tf.reduce_mean( obs_loss)\n",
    "\n",
    "rec_z = inference_network(p_x, latent_dim, n_layer_inf, n_hidden_inf, eps_dim )\n",
    "cost_z = tf.reduce_mean(tf.pow(rec_z - z, 2))\n",
    "\n",
    "gen_loss_x = tf.reduce_mean(  gen_logit ) \n",
    "\n",
    "gen_loss = 1.*gen_loss_x + 1.0*cost_z\n",
    "\n",
    "qvars = tf.get_collection(tf.GraphKeys.TRAINABLE_VARIABLES, \"inference\")\n",
    "pvars = tf.get_collection(tf.GraphKeys.TRAINABLE_VARIABLES, \"generative\")\n",
    "dvars = tf.get_collection(tf.GraphKeys.TRAINABLE_VARIABLES, \"discriminator\")\n",
    "\n",
    "opt = tf.train.AdamOptimizer(1e-3, beta1=0.5)\n",
    "train_gen_op =  opt.minimize(gen_loss, var_list=qvars + pvars)\n",
    "train_disc_op = opt.minimize(disc_loss, var_list=dvars)"
   ]
  },
  {
   "cell_type": "code",
   "execution_count": 79,
   "metadata": {},
   "outputs": [
    {
     "name": "stdout",
     "output_type": "stream",
     "text": [
      "0\n",
      "1\n",
      "2\n",
      "3\n",
      "4\n",
      "5\n",
      "6\n",
      "7\n",
      "8\n",
      "9\n"
     ]
    },
    {
     "data": {
      "image/png": "[encoded data removed]",
      "text/plain": [
       "<matplotlib.figure.Figure at 0x7f5a4a602790>"
      ]
     },
     "metadata": {},
     "output_type": "display_data"
    }
   ],
   "source": [
    "\"\"\" training \"\"\"\n",
    "\n",
    "x_target = tf.placeholder(tf.float32, [num_particles, num_latent])\n",
    "\n",
    "prob =  tf.maximum( (1- (x_target/2.0 + 0.5) )*(x_target/2.0 + 0.5) **(3.0), 0.0 ) # tf.exp(f)\n",
    "f = tf.log(prob)\n",
    "log_p_grad = tf.squeeze(tf.gradients(f, x_target), axis=[0])\n",
    "\n",
    "\n",
    "out = svgd_kernel(x_target) # call SVGD update\n",
    "kernel_matrix, kernel_gradients = out[0], out[1]\n",
    "grad_theta = (tf.matmul(kernel_matrix, log_p_grad) + kernel_gradients)/num_particles\n",
    "\n",
    "# plot initial particle position\n",
    "z_np = -np.random.randn(num_particles, num_latent)*2.0\n",
    "fig, _ = plt.subplots(figsize=(20, 5))\n",
    "ax=plt.subplot(1,4,1, aspect='equal')\n",
    "plt.hist(z_np[:,0],50, normed=1)  \n",
    "plt.xlim([-1.5,1.5]); plt.ylim([0.0, 1.2]); ax.set_title('Initial particles: $p_0(z)$')\n",
    "\n",
    "num_iter = 10\n",
    "with tf.Session() as s:\n",
    "    s.run(tf.global_variables_initializer())\n",
    "\n",
    "\n",
    "    for i in range(num_iter):\n",
    "        print(i)\n",
    "        \n",
    "        # generate current samples to update\n",
    "        for _ in range(1):\n",
    "            zmb = np.random.normal(size=(num_particles, 1))\n",
    "            x_gen_np = s.run( p_x, feed_dict={z:zmb}) \n",
    "\n",
    "        # update target particle via SVGD\n",
    "        x_target_np = x_gen_np\n",
    "        for _ in range(500):\n",
    "            grad_theta_ = s.run( grad_theta, feed_dict={x_target: x_target_np } )\n",
    "            # print(grad_theta_)\n",
    "            x_target_np = x_target_np + lr * grad_theta_\n",
    "  \n",
    "        for _ in range(200):            \n",
    "            for _ in range(5):\n",
    "                zmb = np.random.normal(size=(num_particles, 1))\n",
    "                x_gen_np, f_g  = s.run([ p_x, train_gen_op], feed_dict={z:zmb})    \n",
    "\n",
    "            # update discriminator\n",
    "            for _ in range(1):\n",
    "                f_d, _ = s.run([disc_loss, train_disc_op], feed_dict={x: x_target_np, z:zmb})    \n",
    "\n",
    "    # plot generator's particle\n",
    "    ax=plt.subplot(1,4,2, aspect='equal')\n",
    "    plt.hist(x_gen_np[:,0],200, normed=1)  \n",
    "    plt.xlim([-1.5,1.5]); plt.ylim([0.0, 1.2]); ax.set_title('Updated Generator particles: $p_k(z)$')\n",
    "  \n",
    "    \n",
    "    \n",
    "    # plot SVGD's particle\n",
    "    ax=plt.subplot(1,4,3, aspect='equal')\n",
    "    plt.hist(x_target_np[:,0],200, normed=1)  \n",
    "    plt.xlim([-1.5,1.5]); plt.ylim([0.0, 1.2]); ax.set_title('Updated SVGD particles: $p_k(z)$')\n",
    "\n",
    "    # plot the Target distribution\n",
    "    ax=plt.subplot(1,4,4, aspect='equal')\n",
    "    from scipy.stats import beta \n",
    "    coords = np.linspace(range_limit[0], range_limit[1], npoints_plot)\n",
    "    plt.plot(coords, 0.25*(beta.pdf(coords/2.0 + 0.5, 6, 1.5) + beta.pdf(coords/2.0 + 0.5, 1.5, 6)), 'r--')\n",
    "\n",
    "\n",
    "    plt.xlim([-1.5,1.5]); plt.ylim([0.0, 1.2]); ax.set_title('Target distribution: $u(z)$')\n",
    "    plt.show()\n",
    "    \n",
    "    # generate samples to visualize\n",
    "    x_gen = []\n",
    "    for _ in range(10):\n",
    "        zmb = np.random.normal(size=(num_particles, 1))\n",
    "        x_gen_np = s.run( p_x, feed_dict={z:zmb}) \n",
    "        x_gen.append(x_gen_np)\n",
    "    x_gen = np.concatenate(x_gen, 0)\n",
    "    \n",
    "    np.savez('samples_svgd_constrained.npz', nn_samples=x_gen, svgd_samples=x_target_np)\n",
    "    \n",
    "    s.close()"
   ]
  },
  {
   "cell_type": "code",
   "execution_count": 81,
   "metadata": {},
   "outputs": [
    {
     "data": {
      "image/png": "[encoded data removed]",
      "text/plain": [
       "<matplotlib.figure.Figure at 0x7f5a4a448450>"
      ]
     },
     "metadata": {},
     "output_type": "display_data"
    }
   ],
   "source": [
    "\n",
    "\n",
    "fig, _ = plt.subplots(figsize=(20, 5))\n",
    "ax=plt.subplot(1,4,1, aspect='equal')\n",
    "plt.hist(z_np[:,0],50, normed=1)  \n",
    "plt.xlim([-1.5,1.5]); plt.ylim([0.0, 1.5]); ax.set_title('Initial particles: $p_0(z)$')\n",
    "\n",
    "\n",
    "ax=plt.subplot(1,4,2, aspect='equal')\n",
    "plt.hist(x_gen_np[:,0],50, normed=1)  \n",
    "plt.xlim([-1.5,1.5]); plt.ylim([0.0, 1.5]); ax.set_title('Updated Generator particles: $p_k(z)$')\n",
    "\n",
    "# plot SVGD's particle\n",
    "ax=plt.subplot(1,4,3, aspect='equal')\n",
    "plt.hist(x_target_np[:,0],50, normed=1)  \n",
    "plt.xlim([-1.5,1.5]); plt.ylim([0.0, 1.5]); ax.set_title('Updated SVGD particles: $p_k(z)$')\n",
    "\n",
    "\n",
    "# plot the Target distribution\n",
    "ax=plt.subplot(1,4,4, aspect='equal')\n",
    "from scipy.stats import beta \n",
    "coords = np.linspace(range_limit[0], range_limit[1], npoints_plot)\n",
    "plt.plot(coords, 0.25*(beta.pdf(coords/2.0 + 0.5, 6, 1.5) + beta.pdf(coords/2.0 + 0.5, 1.5, 6)), 'r--')\n",
    "\n",
    "\n",
    "plt.xlim([-1.5,1.5]); plt.ylim([0.0, 1.5]); ax.set_title('Target distribution: $u(z)$')\n",
    "plt.show()\n",
    "    "
   ]
  },
  {
   "cell_type": "code",
   "execution_count": null,
   "metadata": {
    "collapsed": true
   },
   "outputs": [],
   "source": []
  },
  {
   "cell_type": "markdown",
   "metadata": {},
   "source": [
    "### L2 loss for amortized SGVD"
   ]
  },
  {
   "cell_type": "code",
   "execution_count": 50,
   "metadata": {},
   "outputs": [],
   "source": [
    "\"\"\" Construct model and training ops \"\"\"\n",
    "tf.reset_default_graph()\n",
    "\n",
    "x = tf.placeholder(tf.float32, shape=(batch_size, input_dim))\n",
    "z = tf.placeholder(tf.float32, shape=(batch_size, latent_dim))\n",
    "\n",
    "# generate particles and compute its distance to targets using l2 loss\n",
    "p_x = generative_network(z, input_dim , n_layer_gen, n_hidden_gen, eps_dim)\n",
    "gen_loss =  tf.reduce_mean(tf.pow(p_x - x, 2))\n",
    "\n",
    "pvars = tf.get_collection(tf.GraphKeys.TRAINABLE_VARIABLES, \"generative\")\n",
    "\n",
    "opt = tf.train.AdamOptimizer(1e-3, beta1=0.5)\n",
    "train_gen_op =  opt.minimize(gen_loss, var_list=pvars)"
   ]
  },
  {
   "cell_type": "code",
   "execution_count": 53,
   "metadata": {},
   "outputs": [
    {
     "name": "stdout",
     "output_type": "stream",
     "text": [
      "0\n",
      "1\n",
      "2\n",
      "3\n",
      "4\n",
      "5\n",
      "6\n",
      "7\n",
      "8\n",
      "9\n"
     ]
    },
    {
     "data": {
      "image/png": "[encoded data removed]",
      "text/plain": [
       "<matplotlib.figure.Figure at 0x7ff457d21890>"
      ]
     },
     "metadata": {},
     "output_type": "display_data"
    }
   ],
   "source": [
    "\"\"\" training \"\"\"\n",
    "\n",
    "x_target = tf.placeholder(tf.float32, [num_particles, num_latent])\n",
    "prob = tf.maximum( (1- (x_target/2.0 + 0.5))**(0.5) * (x_target/2.0 + 0.5)**(5) + (1- (x_target/2.0 + 0.5))**(5) * (x_target/2.0 + 0.5)**(0.5), 0.0 )\n",
    "\n",
    "f = tf.log(prob)\n",
    "log_p_grad = tf.squeeze(tf.gradients(f, x_target), axis=[0])\n",
    "\n",
    "\n",
    "out = svgd_kernel(x_target) # call SVGD update\n",
    "kernel_matrix, kernel_gradients = out[0], out[1]\n",
    "grad_theta = (tf.matmul(kernel_matrix, log_p_grad) + kernel_gradients)/num_particles\n",
    "\n",
    "# plot initial particle position\n",
    "z_np = -np.random.randn(num_particles, num_latent)*0.2\n",
    "fig, _ = plt.subplots(figsize=(20, 5))\n",
    "ax=plt.subplot(1,4,1, aspect='equal')\n",
    "plt.hist(z_np[:,0],50, normed=1)  \n",
    "plt.xlim([-1.5,1.5]); plt.ylim([0.0, 1.2]); ax.set_title('Initial particles: $p_0(z)$')\n",
    "\n",
    "num_iter = 10\n",
    "with tf.Session() as s:\n",
    "    s.run(tf.global_variables_initializer())\n",
    "\n",
    "\n",
    "    for i in range(num_iter):\n",
    "        print(i)\n",
    "        \n",
    "        # generate current samples to update\n",
    "        for _ in range(1):\n",
    "            zmb = np.random.normal(size=(num_particles, 1))\n",
    "            x_gen_np = s.run( p_x, feed_dict={z:zmb}) \n",
    "\n",
    "        # update target particle via SVGD\n",
    "        x_target_np = x_gen_np\n",
    "        for _ in range(1000):\n",
    "            grad_theta_ = s.run( grad_theta, feed_dict={x_target: x_target_np } )\n",
    "            # print(grad_theta_)\n",
    "            x_target_np = x_target_np + lr * grad_theta_\n",
    "  \n",
    "        zmb = np.random.normal(size=(num_particles, 1)) \n",
    "        for _ in range(1000):            \n",
    "                x_gen_np, f_g  = s.run([ p_x, train_gen_op], feed_dict={z:zmb, x:x_target_np})    \n",
    "\n",
    "    # plot generator's particle\n",
    "    ax=plt.subplot(1,4,2, aspect='equal')\n",
    "    plt.hist(x_gen_np[:,0],200, normed=1)  \n",
    "    plt.xlim([-1.5,1.5]); plt.ylim([0.0, 1.2]); ax.set_title('Updated Generator particles: $p_k(z)$')\n",
    "  \n",
    "    \n",
    "    # plot SVGD's particle\n",
    "    ax=plt.subplot(1,4,3, aspect='equal')\n",
    "    plt.hist(x_target_np[:,0],200, normed=1)  \n",
    "    plt.xlim([-1.5,1.5]); plt.ylim([0.0, 1.2]); ax.set_title('Updated SVGD particles: $p_k(z)$')\n",
    "\n",
    "    # plot the Target distribution\n",
    "    ax=plt.subplot(1,4,4, aspect='equal')\n",
    "    from scipy.stats import beta \n",
    "    coords = np.linspace(range_limit[0], range_limit[1], npoints_plot)\n",
    "    plt.plot(coords, 0.25*(beta.pdf(coords/2.0 + 0.5, 6, 1.5) + beta.pdf(coords/2.0 + 0.5, 1.5, 6)), 'r--')\n",
    "\n",
    "    plt.xlim([-1.5,1.5]); plt.ylim([0.0, 1.2]); ax.set_title('Target distribution: $u(z)$')\n",
    "    plt.show()\n",
    "    \n",
    "    # generate samples to visualize\n",
    "    x_gen = []\n",
    "    for _ in range(10):\n",
    "        zmb = np.random.normal(size=(num_particles, 1))\n",
    "        x_gen_np = s.run( p_x, feed_dict={z:zmb}) \n",
    "        x_gen.append(x_gen_np)\n",
    "    x_gen = np.concatenate(x_gen, 0)\n",
    "    \n",
    "    np.savez('samples_svgd_constrained_L2_2mode.npz', nn_samples=x_gen, svgd_samples=x_target_np)\n",
    "    \n",
    "    s.close()"
   ]
  },
  {
   "cell_type": "code",
   "execution_count": 54,
   "metadata": {},
   "outputs": [
    {
     "data": {
      "text/plain": [
       "Text(0.5,1,u'Updated SVGD particles: $p_k(z)$')"
      ]
     },
     "execution_count": 54,
     "metadata": {},
     "output_type": "execute_result"
    },
    {
     "data": {
      "image/png": "[encoded data removed]",
      "text/plain": [
       "<matplotlib.figure.Figure at 0x7ff44de59a50>"
      ]
     },
     "metadata": {},
     "output_type": "display_data"
    }
   ],
   "source": [
    "plt.hist(x_gen_np[:,0],200, normed=1)  \n",
    "plt.xlim([-1.5,1.5]); plt.ylim([0.0, 1.2]); ax.set_title('Updated SVGD particles: $p_k(z)$')\n"
   ]
  },
  {
   "cell_type": "code",
   "execution_count": null,
   "metadata": {},
   "outputs": [],
   "source": []
  },
  {
   "cell_type": "code",
   "execution_count": null,
   "metadata": {},
   "outputs": [],
   "source": []
  },
  {
   "cell_type": "code",
   "execution_count": null,
   "metadata": {},
   "outputs": [],
   "source": []
  },
  {
   "cell_type": "code",
   "execution_count": null,
   "metadata": {
    "collapsed": true
   },
   "outputs": [],
   "source": []
  }
 ],
 "metadata": {
  "kernelspec": {
   "display_name": "Python 2",
   "language": "python",
   "name": "python2"
  },
  "language_info": {
   "codemirror_mode": {
    "name": "ipython",
    "version": 2
   },
   "file_extension": ".py",
   "mimetype": "text/x-python",
   "name": "python",
   "nbconvert_exporter": "python",
   "pygments_lexer": "ipython2",
   "version": "2.7.14"
  }
 },
 "nbformat": 4,
 "nbformat_minor": 2
}

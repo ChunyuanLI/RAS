{
 "cells": [
  {
   "cell_type": "markdown",
   "metadata": {},
   "source": [
    "## Amortized MCMC for toy distributions\n",
    "\n",
    "Author: Chunyuan Li ( http://chunyuan.li/ ). \n",
    "Tensorflow implementation of \n",
    "\n",
    "\n",
    "(1) Gradient-based MCMC algorithm; \n",
    "\n",
    "(2) Adversarial and L2 loss based Amortized Algorithm: distill the knowledge of the MCMC dynamics into stochastic neural nets. \n",
    "\n",
    "(3) The adversarial loss is better metric than L2 in measuing distribution discrepency for amortization \n",
    "\n",
    "https://openreview.net/pdf?id=S1eZGHkDM\n",
    "\n",
    "\n",
    "Please contact me if there is any issue."
   ]
  },
  {
   "cell_type": "code",
   "execution_count": 1,
   "metadata": {},
   "outputs": [
    {
     "name": "stderr",
     "output_type": "stream",
     "text": [
      "/home/kd/anaconda3/envs/py27/lib/python2.7/site-packages/h5py/__init__.py:36: FutureWarning: Conversion of the second argument of issubdtype from `float` to `np.floating` is deprecated. In future, it will be treated as `np.float64 == np.dtype(float).type`.\n",
      "  from ._conv import register_converters as _register_converters\n"
     ]
    }
   ],
   "source": [
    "%matplotlib inline\n",
    "import matplotlib.pyplot as plt\n",
    "import numpy as np\n",
    "import time\n",
    "import pdb\n",
    "import matplotlib\n",
    "# import some stuff\n",
    "from __future__ import division, print_function\n",
    "\n",
    "from scipy.stats import gaussian_kde\n",
    "\n",
    "import os\n",
    "import pandas as pd\n",
    "import seaborn as sns\n",
    "\n",
    "# set gpu device - only important for multi gpu systems\n",
    "os.environ['CUDA_VISIBLE_DEVICES'] = '1'\n",
    "import tensorflow as tf\n",
    "\n",
    "rng = np.random.RandomState()\n",
    "np.random.seed(44)"
   ]
  },
  {
   "cell_type": "markdown",
   "metadata": {
    "collapsed": true
   },
   "source": [
    "Test toy distributions:"
   ]
  },
  {
   "cell_type": "code",
   "execution_count": 2,
   "metadata": {},
   "outputs": [],
   "source": [
    "\n",
    "def w1(z):\n",
    "    return tf.sin(2.*np.pi*z[0]/4.)\n",
    "def w2(z):\n",
    "    return 3.*tf.exp(-.5*(((z[0]-1.)/.6))**2)\n",
    "def w3(z):\n",
    "    return 3.*(1+tf.exp(-(z[0]-1.)/.3))**-1\n",
    "def pot0(z):\n",
    "    z = tf.transpose(z)\n",
    "    return .5*((tf.norm(z, ord=2, axis=0)-0.)/.4)**2 - tf.log(tf.exp(-.5*((z[0]-0.)/.8)**2) )\n",
    "def pot1(z):\n",
    "    z = tf.transpose(z)\n",
    "    return .5*((tf.norm(z, ord=2, axis=0)-2.)/.4)**2 - tf.log(tf.exp(-.5*((z[0]-2.)/.6)**2) + tf.exp(-.5*((z[0]+2.)/.6)**2))\n",
    "\n",
    "def pot1_hard(z):\n",
    "    z = tf.transpose(z)\n",
    "    return .5*((tf.norm(z, ord=2, axis=0)-3.)/.4)**2 - tf.log(tf.exp(-.5*((z[0]-3.)/.6)**2) + tf.exp(-.5*((z[0]+3.)/.6)**2))\n",
    "\n",
    "\n",
    "def pot2(z):\n",
    "    z = tf.transpose(z)\n",
    "    return .5*((z[1]-w1(z))/.4)**2\n",
    "def pot3(z):\n",
    "    z = tf.transpose(z)\n",
    "    return -tf.log(tf.exp(-.5*((z[1]-w1(z))/.35)**2) + tf.exp(-.5*((z[1]-w1(z)+w2(z))/.35)**2))\n",
    "def pot4(z):\n",
    "    z = tf.transpose(z)\n",
    "    return -tf.log(tf.exp(-.5*((z[1]-w1(z))/.4)**2) + tf.exp(-.5*((z[1]-w1(z)+w3(z))/.35)**2))"
   ]
  },
  {
   "cell_type": "code",
   "execution_count": 3,
   "metadata": {},
   "outputs": [],
   "source": [
    "def evaluate_bivariate(range, npoints):\n",
    "    \"\"\"Evaluate (possibly unnormalized) pdf over a meshgrid.\"\"\"\n",
    "    side = np.linspace(range[0], range[1], npoints)\n",
    "    z1, z2 = np.meshgrid(side, side)\n",
    "    zv = np.hstack([z1.reshape(-1, 1), z2.reshape(-1, 1)])\n",
    "    \n",
    "    return z1, z2, zv"
   ]
  },
  {
   "cell_type": "markdown",
   "metadata": {
    "collapsed": true
   },
   "source": [
    "The MCMC update rule:  $x \\leftarrow x + lr * gradient + lr * noise$, where $noise \\sim N(0,1)$"
   ]
  },
  {
   "cell_type": "code",
   "execution_count": null,
   "metadata": {},
   "outputs": [],
   "source": []
  },
  {
   "cell_type": "code",
   "execution_count": null,
   "metadata": {},
   "outputs": [],
   "source": []
  },
  {
   "cell_type": "code",
   "execution_count": null,
   "metadata": {
    "collapsed": true
   },
   "outputs": [],
   "source": []
  },
  {
   "cell_type": "code",
   "execution_count": 65,
   "metadata": {},
   "outputs": [],
   "source": [
    "dtype = tf.float32\n",
    "num_particles=128*10 \n",
    "num_latent = 1\n",
    "lr = 0.001\n",
    "alpha=.9\n",
    "fudge_factor = 1e-6\n",
    "num_iter = 6000\n",
    "range_limit = [-1,1]\n",
    "npoints_plot=50"
   ]
  },
  {
   "cell_type": "code",
   "execution_count": 72,
   "metadata": {},
   "outputs": [],
   "source": [
    "def test_case():\n",
    "    z  = tf.placeholder(tf.float32, [num_particles, num_latent])\n",
    "    prob =  tf.maximum( (1- (z/2.0 + 0.5) )*(z/2.0 + 0.5) **(3.0), 0.0 ) # tf.exp(f)\n",
    "    f = tf.log(prob)\n",
    "    log_p_grad = tf.squeeze(tf.gradients(f, z), axis=[0])\n",
    "\n",
    "    grad_theta = log_p_grad \n",
    "    \n",
    "    z_np = -np.random.randn(num_particles, num_latent)*1.0\n",
    "\n",
    "    fig, _ = plt.subplots(figsize=(10, 5))\n",
    "    ax=plt.subplot(1,3,1, aspect='equal')\n",
    "    \n",
    "    plt.hist(z_np[:,0],200, normed=1)  \n",
    "    plt.xlim([-1.5,1.5]); plt.ylim([0.0, 1.2]); ax.set_title('Initial particles: $p_0(z)$')\n",
    "\n",
    "    with tf.Session() as s:\n",
    "        for i in xrange(num_iter):\n",
    "            grad_theta_ = s.run( grad_theta, feed_dict={z: z_np } )\n",
    "            noise_sample = np.random.randn(num_particles, num_latent) * np.sqrt(lr)\n",
    "            z_np = z_np + lr * grad_theta_ + noise_sample\n",
    "\n",
    "    ax=plt.subplot(1,3,2, aspect='equal')\n",
    "    plt.hist(z_np[:,0],2000, normed=1)  \n",
    "    plt.xlim([-1.5,1.5]); plt.ylim([0.0, 1.2]); ax.set_title('Updated particles: $p_k(z)$')\n",
    "    \n",
    "    # plot the Target distribution\n",
    "    z_pp  = tf.placeholder(tf.float32, [None, num_latent])\n",
    "\n",
    "    ax=plt.subplot(1,3,3, aspect='equal')\n",
    "    from scipy.stats import beta \n",
    "    coords = np.linspace(range_limit[0], range_limit[1], npoints_plot)\n",
    "    plt.plot(coords, beta.pdf(coords/2.0 + 0.5, 4, 2)/2.0, 'r--')\n",
    "\n",
    "    plt.xlim([-1.5,1.5]); plt.ylim([0.0, 1.2]); ax.set_title('Target distribution: $u(z)$')\n",
    "    return z_np"
   ]
  },
  {
   "cell_type": "code",
   "execution_count": 67,
   "metadata": {},
   "outputs": [
    {
     "data": {
      "image/png": "[encoded data removed]",
      "text/plain": [
       "<matplotlib.figure.Figure at 0x7f7965e891d0>"
      ]
     },
     "metadata": {},
     "output_type": "display_data"
    }
   ],
   "source": [
    "z_np = test_case()"
   ]
  },
  {
   "cell_type": "code",
   "execution_count": 150,
   "metadata": {
    "collapsed": true
   },
   "outputs": [],
   "source": [
    "np.save('samples_mcmc_constrained_teacher.npy', z_np)"
   ]
  },
  {
   "cell_type": "code",
   "execution_count": 71,
   "metadata": {},
   "outputs": [
    {
     "data": {
      "image/png": "[encoded data removed]",
      "text/plain": [
       "<matplotlib.figure.Figure at 0x7f7964e2da10>"
      ]
     },
     "metadata": {},
     "output_type": "display_data"
    }
   ],
   "source": [
    "plt.hist(z_np[:,0],2000, normed=1) \n",
    "plt.xlim([-1.5,1.5]);\n",
    "plt.show()"
   ]
  },
  {
   "cell_type": "code",
   "execution_count": null,
   "metadata": {
    "collapsed": true
   },
   "outputs": [],
   "source": []
  },
  {
   "cell_type": "code",
   "execution_count": null,
   "metadata": {
    "collapsed": true
   },
   "outputs": [],
   "source": []
  },
  {
   "cell_type": "code",
   "execution_count": null,
   "metadata": {
    "collapsed": true
   },
   "outputs": [],
   "source": []
  },
  {
   "cell_type": "markdown",
   "metadata": {
    "collapsed": true
   },
   "source": [
    "### Adversarial-based Amortized MCMC"
   ]
  },
  {
   "cell_type": "code",
   "execution_count": 27,
   "metadata": {},
   "outputs": [],
   "source": [
    "slim = tf.contrib.slim\n",
    "ds = tf.contrib.distributions"
   ]
  },
  {
   "cell_type": "code",
   "execution_count": 28,
   "metadata": {},
   "outputs": [],
   "source": [
    "\"\"\" parameters \"\"\"\n",
    "input_dim = 1\n",
    "latent_dim = 1\n",
    "eps_dim = 1\n",
    "batch_size = num_particles\n",
    "\n",
    "n_layer_disc = 2\n",
    "n_hidden_disc = 256\n",
    "n_layer_gen = 2\n",
    "n_hidden_gen= 256\n",
    "n_layer_inf = 2\n",
    "n_hidden_inf= 256"
   ]
  },
  {
   "cell_type": "code",
   "execution_count": 29,
   "metadata": {},
   "outputs": [],
   "source": [
    "def linear(input, output_dim, scope='linear', stddev=0.01):\n",
    "    norm = tf.random_normal_initializer(stddev=stddev)\n",
    "    const = tf.constant_initializer(0.0)\n",
    "    with tf.variable_scope(scope):\n",
    "        w = tf.get_variable('weights', [input.get_shape()[1], output_dim], initializer=norm)\n",
    "        b = tf.get_variable('biases', [output_dim], initializer=const)\n",
    "        return tf.matmul(input, w) + b\n",
    "\n",
    "\n",
    "def generative_network(z, input_dim, n_layer, n_hidden, eps_dim):\n",
    "    with tf.variable_scope(\"generative\"):\n",
    "        Normal = tf.distributions.Normal(loc=tf.zeros(eps_dim), scale=tf.ones(eps_dim))\n",
    "        eps = Normal.sample([batch_size])        \n",
    "        h = tf.concat([z, eps], 1) \n",
    "        h = tf.nn.relu(linear(h, n_hidden_gen, 'g_hidden1'))\n",
    "        h = tf.nn.relu(linear(h, n_hidden_gen, 'g_hidden2'))\n",
    "        x = slim.fully_connected(h, input_dim, activation_fn=tf.nn.tanh, scope=\"p_x\")\n",
    "    return x\n",
    "\n",
    "\n",
    "def inference_network(x, latent_dim, n_layer, n_hidden, eps_dim):\n",
    "    with tf.variable_scope(\"inference\"):\n",
    "        Normal = tf.distributions.Normal(loc=tf.zeros(eps_dim), scale=tf.ones(eps_dim))\n",
    "        eps = Normal.sample([batch_size]) * 0.0\n",
    "        h = tf.concat([x, eps], 1) \n",
    "        h = tf.nn.relu(linear(h, n_hidden_inf, 'i_hidden1'))\n",
    "        h = tf.nn.relu(linear(h, n_hidden_inf, 'i_hidden2'))        \n",
    "        z = slim.fully_connected(h, latent_dim, activation_fn=None, scope=\"q_z\")\n",
    "    return z\n",
    "\n",
    "\n",
    "def disc_network(x, n_layers=2, n_hidden=256, activation_fn=None, reuse=None):\n",
    "    \"\"\"Approximate x log data density.\"\"\"\n",
    "    h = x\n",
    "    with tf.variable_scope('discriminator', reuse=reuse):\n",
    "        h = tf.nn.relu(linear(h, n_hidden_disc, 'd_hidden1'))\n",
    "        h = tf.nn.relu(linear(h, n_hidden_disc, 'd_hidden2'))           \n",
    "        log_d = slim.fully_connected(h, 1, activation_fn=activation_fn)\n",
    "    return tf.squeeze(log_d, squeeze_dims=[1])\n",
    "\n",
    "\n",
    "def disc_pair_network(x,z, n_layers=2, n_hidden=256, activation_fn=None, reuse=None):\n",
    "    \"\"\"Approximate (x,z) log data density.\"\"\"\n",
    "    h = tf.concat([x,z], 1)\n",
    "    with tf.variable_scope('discriminator_pair', reuse=reuse):\n",
    "        h = tf.nn.relu(linear(h, n_hidden_disc, 'd_hidden1'))\n",
    "        h = tf.nn.relu(linear(h, n_hidden_disc, 'd_hidden2'))  \n",
    "        log_d = slim.fully_connected(h, 1, activation_fn=activation_fn)\n",
    "    return tf.squeeze(log_d, squeeze_dims=[1])\n"
   ]
  },
  {
   "cell_type": "markdown",
   "metadata": {},
   "source": [
    "Marginal distribution"
   ]
  },
  {
   "cell_type": "code",
   "execution_count": 30,
   "metadata": {},
   "outputs": [
    {
     "name": "stdout",
     "output_type": "stream",
     "text": [
      "WARNING:tensorflow:From <ipython-input-29-aba0dc547e55>:39: calling squeeze (from tensorflow.python.ops.array_ops) with squeeze_dims is deprecated and will be removed in a future version.\n",
      "Instructions for updating:\n",
      "Use the `axis` argument instead\n"
     ]
    }
   ],
   "source": [
    "\"\"\" Construct model and training ops \"\"\"\n",
    "tf.reset_default_graph()\n",
    "\n",
    "x = tf.placeholder(tf.float32, shape=(batch_size, input_dim))\n",
    "z = tf.placeholder(tf.float32, shape=(batch_size, latent_dim))\n",
    "\n",
    "# decoder and encoder\n",
    "p_x = generative_network(z, input_dim , n_layer_gen, n_hidden_gen, eps_dim)\n",
    "\n",
    "gen_logit = disc_network(p_x, n_layers=n_layer_disc, n_hidden=n_hidden_disc)\n",
    "gen_loss = tf.nn.sigmoid_cross_entropy_with_logits(labels = tf.ones_like(gen_logit), logits=gen_logit)\n",
    "\n",
    "obs_logit = disc_network(x, n_layers=n_layer_disc, n_hidden=n_hidden_disc, reuse=True)\n",
    "obs_loss = tf.nn.sigmoid_cross_entropy_with_logits(labels = tf.zeros_like(gen_logit), logits=obs_logit)\n",
    "\n",
    "disc_loss = tf.reduce_mean(  gen_loss ) + tf.reduce_mean( obs_loss)\n",
    "\n",
    "rec_z = inference_network(p_x, latent_dim, n_layer_inf, n_hidden_inf, eps_dim )\n",
    "cost_z = tf.reduce_mean(tf.pow(rec_z - z, 2))\n",
    "\n",
    "gen_loss_x = tf.reduce_mean(  gen_logit ) \n",
    "\n",
    "gen_loss = 1.*gen_loss_x + 1.0*cost_z\n",
    "\n",
    "qvars = tf.get_collection(tf.GraphKeys.TRAINABLE_VARIABLES, \"inference\")\n",
    "pvars = tf.get_collection(tf.GraphKeys.TRAINABLE_VARIABLES, \"generative\")\n",
    "dvars = tf.get_collection(tf.GraphKeys.TRAINABLE_VARIABLES, \"discriminator\")\n",
    "\n",
    "opt = tf.train.AdamOptimizer(1e-3, beta1=0.5)\n",
    "train_gen_op =  opt.minimize(gen_loss, var_list=qvars + pvars)\n",
    "train_disc_op = opt.minimize(disc_loss, var_list=dvars)"
   ]
  },
  {
   "cell_type": "code",
   "execution_count": 54,
   "metadata": {},
   "outputs": [
    {
     "name": "stdout",
     "output_type": "stream",
     "text": [
      "0\n",
      "1\n",
      "2\n",
      "3\n",
      "4\n",
      "5\n",
      "6\n",
      "7\n",
      "8\n",
      "9\n"
     ]
    },
    {
     "data": {
      "image/png": "[encoded data removed]",
      "text/plain": [
       "<matplotlib.figure.Figure at 0x7f7965a9ec90>"
      ]
     },
     "metadata": {},
     "output_type": "display_data"
    }
   ],
   "source": [
    "\"\"\" training \"\"\"\n",
    "\n",
    "x_target = tf.placeholder(tf.float32, [num_particles, num_latent])\n",
    "\n",
    "prob =  tf.maximum( (1- (x_target/2.0 + 0.5) )*(x_target/2.0 + 0.5) **(3.0), 0.0 ) # tf.exp(f)\n",
    "f = tf.log(prob)\n",
    "log_p_grad = tf.squeeze(tf.gradients(f, x_target), axis=[0])\n",
    "\n",
    "grad_theta = log_p_grad\n",
    "\n",
    "\n",
    "# plot initial particle position\n",
    "z_np = -np.random.randn(num_particles, num_latent)*0.5\n",
    "fig, _ = plt.subplots(figsize=(20, 5))\n",
    "ax=plt.subplot(1,4,1, aspect='equal')\n",
    "plt.hist(z_np[:,0],50, normed=1)  \n",
    "plt.xlim([-1.5,1.5]); plt.ylim([0.0, 1.2]); ax.set_title('Initial particles: $p_0(z)$')\n",
    "\n",
    "num_iter = 10\n",
    "with tf.Session() as s:\n",
    "    s.run(tf.global_variables_initializer())\n",
    "\n",
    "\n",
    "    for i in range(num_iter):\n",
    "        print(i)\n",
    "        \n",
    "        # generate current samples to update\n",
    "        for _ in range(1):\n",
    "            zmb = np.random.normal(size=(num_particles, 1))\n",
    "            x_gen_np = s.run( p_x, feed_dict={z:zmb}) \n",
    "\n",
    "        # update target particle via MCMC\n",
    "        x_target_np = x_gen_np\n",
    "        for _ in range(600):\n",
    "            grad_theta_ = s.run( grad_theta, feed_dict={x_target: x_target_np } )\n",
    "            # print(grad_theta_)\n",
    "            noise_sample = np.random.randn(num_particles, num_latent) * np.sqrt(lr)\n",
    "            x_target_np = x_target_np + lr * grad_theta_\n",
    "  \n",
    "        for _ in range(200):            \n",
    "            for _ in range(3):\n",
    "                zmb = np.random.normal(size=(num_particles, 1))\n",
    "                x_gen_np, f_g  = s.run([ p_x, train_gen_op], feed_dict={z:zmb})    \n",
    "\n",
    "            # update discriminator\n",
    "            for _ in range(1):\n",
    "                f_d, _ = s.run([disc_loss, train_disc_op], feed_dict={x: x_target_np, z:zmb})    \n",
    "\n",
    "    # plot generator's particle\n",
    "    ax=plt.subplot(1,4,2, aspect='equal')\n",
    "    plt.hist(x_gen_np[:,0],2000, normed=1)  \n",
    "    plt.xlim([-1.5,1.5]); plt.ylim([0.0, 1.2]); ax.set_title('Updated Generator samples: $p_k(z)$')\n",
    "  \n",
    "    \n",
    "    \n",
    "    # plot SVGD's particle\n",
    "    ax=plt.subplot(1,4,3, aspect='equal')\n",
    "    plt.hist(x_target_np[:,0],2000, normed=1)  \n",
    "    plt.xlim([-1.5,1.5]); plt.ylim([0.0, 1.2]); ax.set_title('Updated MCMC samples: $p_k(z)$')\n",
    "\n",
    "    # plot the Target distribution\n",
    "    ax=plt.subplot(1,4,4, aspect='equal')\n",
    "    from scipy.stats import beta \n",
    "    coords = np.linspace(range_limit[0], range_limit[1], npoints_plot)\n",
    "    plt.plot(coords, beta.pdf(coords/2.0 + 0.5, 4, 2)/2.0, 'r--')\n",
    "\n",
    "    plt.xlim([-1.5,1.5]); plt.ylim([0.0, 1.2]); ax.set_title('Target distribution: $u(z)$')\n",
    "    plt.show()\n",
    "    \n",
    "    # generate samples to visualize\n",
    "    x_gen = []\n",
    "    for _ in range(10):\n",
    "        zmb = np.random.normal(size=(num_particles, 1))\n",
    "        x_gen_np = s.run( p_x, feed_dict={z:zmb}) \n",
    "        x_gen.append(x_gen_np)\n",
    "    x_gen = np.concatenate(x_gen, 0)\n",
    "    \n",
    "    np.savez('samples_mcmc_constrained.npz', nn_samples=x_gen, svgd_samples=x_target_np)\n",
    "    \n",
    "    s.close()"
   ]
  },
  {
   "cell_type": "code",
   "execution_count": 57,
   "metadata": {},
   "outputs": [
    {
     "data": {
      "image/png": "[encoded data removed]",
      "text/plain": [
       "<matplotlib.figure.Figure at 0x7f7966621d10>"
      ]
     },
     "metadata": {},
     "output_type": "display_data"
    }
   ],
   "source": [
    "\n",
    "\n",
    "fig, _ = plt.subplots(figsize=(20, 5))\n",
    "ax=plt.subplot(1,4,1, aspect='equal')\n",
    "plt.hist(z_np[:,0],50, normed=1)  \n",
    "plt.xlim([-1.5,1.5]); plt.ylim([0.0, 1.5]); ax.set_title('Initial particles: $p_0(z)$')\n",
    "\n",
    "\n",
    "ax=plt.subplot(1,4,2, aspect='equal')\n",
    "plt.hist(x_gen_np[:,0],50, normed=1)  \n",
    "plt.xlim([-1.5,1.5]); plt.ylim([0.0, 1.5]); ax.set_title('Updated Generator samples: $p_k(z)$')\n",
    "\n",
    "# plot SVGD's particle\n",
    "ax=plt.subplot(1,4,3, aspect='equal')\n",
    "plt.hist(x_target_np[:,0],50, normed=1)  \n",
    "plt.xlim([-1.5,1.5]); plt.ylim([0.0, 1.5]); ax.set_title('Updated MCMC samples: $p_k(z)$')\n",
    "\n",
    "\n",
    "# plot the Target distribution\n",
    "ax=plt.subplot(1,4,4, aspect='equal')\n",
    "from scipy.stats import beta \n",
    "coords = np.linspace(range_limit[0], range_limit[1], npoints_plot)\n",
    "plt.plot(coords, beta.pdf(coords/2.0 + 0.5, 4, 2)/2.0, 'r--')\n",
    "\n",
    "plt.xlim([-1.5,1.5]); plt.ylim([0.0, 1.5]); ax.set_title('Target distribution: $u(z)$')\n",
    "plt.show()\n",
    "    "
   ]
  },
  {
   "cell_type": "code",
   "execution_count": null,
   "metadata": {
    "collapsed": true
   },
   "outputs": [],
   "source": []
  },
  {
   "cell_type": "code",
   "execution_count": 9,
   "metadata": {
    "collapsed": true
   },
   "outputs": [],
   "source": []
  },
  {
   "cell_type": "code",
   "execution_count": null,
   "metadata": {},
   "outputs": [],
   "source": []
  },
  {
   "cell_type": "code",
   "execution_count": null,
   "metadata": {},
   "outputs": [],
   "source": []
  },
  {
   "cell_type": "code",
   "execution_count": null,
   "metadata": {
    "collapsed": true
   },
   "outputs": [],
   "source": []
  },
  {
   "cell_type": "code",
   "execution_count": null,
   "metadata": {
    "collapsed": true
   },
   "outputs": [],
   "source": []
  },
  {
   "cell_type": "code",
   "execution_count": null,
   "metadata": {
    "collapsed": true
   },
   "outputs": [],
   "source": []
  },
  {
   "cell_type": "code",
   "execution_count": null,
   "metadata": {
    "collapsed": true
   },
   "outputs": [],
   "source": []
  }
 ],
 "metadata": {
  "kernelspec": {
   "display_name": "Python 2",
   "language": "python",
   "name": "python2"
  },
  "language_info": {
   "codemirror_mode": {
    "name": "ipython",
    "version": 2
   },
   "file_extension": ".py",
   "mimetype": "text/x-python",
   "name": "python",
   "nbconvert_exporter": "python",
   "pygments_lexer": "ipython2",
   "version": "2.7.14"
  }
 },
 "nbformat": 4,
 "nbformat_minor": 2
}
